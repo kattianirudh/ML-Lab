{
 "cells": [
  {
   "cell_type": "markdown",
   "metadata": {},
   "source": [
    "## Lab Program 2\n",
    "#### Candidate Elimination Algorithm\n",
    "> - Input: .csv file\n",
    "> - Output: predicted hypothesis as .csv"
   ]
  },
  {
   "cell_type": "code",
   "execution_count": 1,
   "metadata": {
    "collapsed": true
   },
   "outputs": [],
   "source": [
    "import numpy as np\n",
    "import pandas as pd"
   ]
  },
  {
   "cell_type": "code",
   "execution_count": 2,
   "metadata": {
    "collapsed": true
   },
   "outputs": [],
   "source": [
    "filename = 'pgm2.csv'\n",
    "data = pd.DataFrame(data = pd.read_csv(filename))"
   ]
  },
  {
   "cell_type": "code",
   "execution_count": 3,
   "metadata": {},
   "outputs": [
    {
     "name": "stdout",
     "output_type": "stream",
     "text": [
      "     sky  temp humidity    wind water forcast enjoy sport\n",
      "0  sunny  warm   normal  strong  warm    same         yes\n",
      "1  sunny  warm     high  strong  warm    same         yes\n",
      "2  rainy  cold   normal  strong  warm  change          no\n",
      "3  sunny  warm     high  strong  cool  change         yes\n"
     ]
    }
   ],
   "source": [
    "print(data)"
   ]
  },
  {
   "cell_type": "code",
   "execution_count": 4,
   "metadata": {},
   "outputs": [
    {
     "name": "stdout",
     "output_type": "stream",
     "text": [
      "     sky  temp humidity    wind water forcast\n",
      "0  sunny  warm   normal  strong  warm    same\n",
      "1  sunny  warm     high  strong  warm    same\n",
      "2  rainy  cold   normal  strong  warm  change\n",
      "3  sunny  warm     high  strong  cool  change\n"
     ]
    }
   ],
   "source": [
    "print(data.iloc[:,:-1]) #concepts"
   ]
  },
  {
   "cell_type": "code",
   "execution_count": 5,
   "metadata": {},
   "outputs": [
    {
     "name": "stdout",
     "output_type": "stream",
     "text": [
      "0    yes\n",
      "1    yes\n",
      "2     no\n",
      "3    yes\n",
      "Name: enjoy sport, dtype: object\n"
     ]
    }
   ],
   "source": [
    "print(data.iloc[:,-1]) #target"
   ]
  },
  {
   "cell_type": "code",
   "execution_count": 6,
   "metadata": {
    "collapsed": true
   },
   "outputs": [],
   "source": [
    "concepts = np.array(data.iloc[:,:-1])\n",
    "target = np.array(data.iloc[:,-1])"
   ]
  },
  {
   "cell_type": "markdown",
   "metadata": {},
   "source": [
    ">Method Learn (concepts, target)\n",
    "- input the concepts (features) and the target (y)\n",
    "- outputs the specific and general hypotheses for the given examples"
   ]
  },
  {
   "cell_type": "code",
   "execution_count": 7,
   "metadata": {
    "collapsed": true
   },
   "outputs": [],
   "source": [
    "def learn(concepts,target):\n",
    "    sHyp = concepts[0].copy()\n",
    "    lenS = len(sHyp) # no of attributes\n",
    "    gHyp = [['?' for i in range(lenS)] for i in range(lenS)]\n",
    "    for i,h in enumerate(concepts):\n",
    "        print('i',i, end=\"\\t\")\n",
    "        print('h',h,'\\t',target[i])\n",
    "        if target[i] == 'yes':\n",
    "            for x in range(lenS):\n",
    "#                 print('yes',x)\n",
    "                if h[x] != sHyp[x]:\n",
    "                    sHyp[x] = '?'\n",
    "                    gHyp[x][x] = '?'\n",
    "        if target[i] == 'no':\n",
    "            for x in range(lenS):\n",
    "#                 print('no',x)\n",
    "                if h[x] != sHyp[x]:\n",
    "                    gHyp[x][x] = sHyp[x]\n",
    "                else:\n",
    "                    gHyp[x][x] = '?'\n",
    "    print(\"\\n\\n\",list(enumerate(gHyp)),\"\\n\\n\")\n",
    "    indices = [i for i,val in enumerate(gHyp) if val == ['?','?','?','?','?','?']]\n",
    "    for i in indices:\n",
    "        gHyp.remove(['?','?','?','?','?','?'])\n",
    "    return sHyp,gHyp"
   ]
  },
  {
   "cell_type": "code",
   "execution_count": 8,
   "metadata": {},
   "outputs": [
    {
     "name": "stdout",
     "output_type": "stream",
     "text": [
      "i 0\th ['sunny' 'warm' 'normal' 'strong' 'warm' 'same'] \t yes\n",
      "i 1\th ['sunny' 'warm' 'high' 'strong' 'warm' 'same'] \t yes\n",
      "i 2\th ['rainy' 'cold' 'normal' 'strong' 'warm' 'change'] \t no\n",
      "i 3\th ['sunny' 'warm' 'high' 'strong' 'cool' 'change'] \t yes\n",
      "\n",
      "\n",
      " [(0, ['sunny', '?', '?', '?', '?', '?']), (1, ['?', 'warm', '?', '?', '?', '?']), (2, ['?', '?', '?', '?', '?', '?']), (3, ['?', '?', '?', '?', '?', '?']), (4, ['?', '?', '?', '?', '?', '?']), (5, ['?', '?', '?', '?', '?', '?'])] \n",
      "\n",
      "\n",
      "S is :  ['sunny' 'warm' '?' 'strong' '?' '?']\n",
      "G is :  [['sunny', '?', '?', '?', '?', '?'], ['?', 'warm', '?', '?', '?', '?']]\n"
     ]
    }
   ],
   "source": [
    "s,g = learn(concepts,target)\n",
    "print(\"S is : \",s)\n",
    "print(\"G is : \",g)"
   ]
  },
  {
   "cell_type": "code",
   "execution_count": null,
   "metadata": {
    "collapsed": true
   },
   "outputs": [],
   "source": []
  }
 ],
 "metadata": {
  "kernelspec": {
   "display_name": "Python 3",
   "language": "python",
   "name": "python3"
  },
  "language_info": {
   "codemirror_mode": {
    "name": "ipython",
    "version": 3
   },
   "file_extension": ".py",
   "mimetype": "text/x-python",
   "name": "python",
   "nbconvert_exporter": "python",
   "pygments_lexer": "ipython3",
   "version": "3.6.4"
  }
 },
 "nbformat": 4,
 "nbformat_minor": 2
}
