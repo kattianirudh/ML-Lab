{
 "cells": [
  {
   "cell_type": "markdown",
   "metadata": {},
   "source": [
    "# Program 7 - Bayesian Network\n",
    "\n",
    "We have used the pgmpy library for:\n",
    "\n",
    "- Maximum Likelihood Estimator (from `pgmpy.estimators`)\n",
    "- Bayesian Model  (from `pgmpy.models`)\n",
    "- Variable Elimination (from `pgmpy.inference`)"
   ]
  },
  {
   "cell_type": "code",
   "execution_count": 1,
   "metadata": {
    "collapsed": true
   },
   "outputs": [],
   "source": [
    "import numpy as np\n",
    "import pandas as pd\n",
    "import csv\n",
    "\n",
    "from pgmpy.estimators import MaximumLikelihoodEstimator\n",
    "from pgmpy.models import BayesianModel\n",
    "from pgmpy.inference import VariableElimination"
   ]
  },
  {
   "cell_type": "markdown",
   "metadata": {},
   "source": [
    "Read the features from the heart disease csv file.\n",
    "\n",
    "Attributes are given in a python list below"
   ]
  },
  {
   "cell_type": "code",
   "execution_count": 2,
   "metadata": {
    "collapsed": true
   },
   "outputs": [],
   "source": [
    "# Read attributes\n",
    "attributes = ['age','sex','cp','trestbps','chol','fbs','restecg','thalach','exang','oldpeak','slope','ca','thal','heartdisease']\n",
    "\n",
    "# Read features, with the names stored in the variable 'attributes' above \n",
    "heartdisease = pd.read_csv('prog7_dataset_heartdisease.csv', names = attributes)\n",
    "heartdisease = heartdisease.replace('?', np.nan)"
   ]
  },
  {
   "cell_type": "markdown",
   "metadata": {},
   "source": [
    "Display some of the data stored in the Heart Disese data set"
   ]
  },
  {
   "cell_type": "code",
   "execution_count": 5,
   "metadata": {},
   "outputs": [
    {
     "name": "stdout",
     "output_type": "stream",
     "text": [
      "    age  sex   cp  trestbps   chol  fbs  restecg  thalach  exang  oldpeak  slope   ca thal  heartdisease\n",
      "0  63.0  1.0  1.0     145.0  233.0  1.0      2.0    150.0    0.0      2.3    3.0  0.0  6.0             0\n",
      "1  67.0  1.0  4.0     160.0  286.0  0.0      2.0    108.0    1.0      1.5    2.0  3.0  3.0             2\n",
      "2  67.0  1.0  4.0     120.0  229.0  0.0      2.0    129.0    1.0      2.6    2.0  2.0  7.0             1\n",
      "3  37.0  1.0  3.0     130.0  250.0  0.0      0.0    187.0    0.0      3.5    3.0  0.0  3.0             0\n",
      "4  41.0  0.0  2.0     130.0  204.0  0.0      2.0    172.0    0.0      1.4    1.0  0.0  3.0             0\n"
     ]
    }
   ],
   "source": [
    "print(heartdisease.head())"
   ]
  },
  {
   "cell_type": "markdown",
   "metadata": {},
   "source": [
    "Some Attributes and Datatypes"
   ]
  },
  {
   "cell_type": "code",
   "execution_count": 6,
   "metadata": {
    "scrolled": true
   },
   "outputs": [
    {
     "name": "stdout",
     "output_type": "stream",
     "text": [
      "age             float64\n",
      "sex             float64\n",
      "cp              float64\n",
      "trestbps        float64\n",
      "chol            float64\n",
      "fbs             float64\n",
      "restecg         float64\n",
      "thalach         float64\n",
      "exang           float64\n",
      "oldpeak         float64\n",
      "slope           float64\n",
      "ca               object\n",
      "thal             object\n",
      "heartdisease      int64\n",
      "dtype: object\n"
     ]
    }
   ],
   "source": [
    "print(heartdisease.dtypes)"
   ]
  },
  {
   "cell_type": "markdown",
   "metadata": {},
   "source": [
    "## Create Bayesian Model\n",
    "\n",
    "Here we create our Bayesian model using the `pgmpy.models.BayesianModel` class.\n",
    "\n",
    "The input to the `BayesianModel` class is an edge list for the Bayeseian Model graph\n",
    "\n",
    "---\n",
    "Examples:\n",
    "Create an empty bayesian model with no nodes and no edges.\n",
    "    \n",
    "    from pgmpy.models import BayesianModel\n",
    "    G = BayesianModel()\n",
    "    # a list of edges,\n",
    "    G.add_edges_from([('a', 'b'), ('b', 'c')])"
   ]
  },
  {
   "cell_type": "code",
   "execution_count": 7,
   "metadata": {
    "collapsed": true
   },
   "outputs": [],
   "source": [
    "model = BayesianModel([\n",
    "    ('age', 'trestbps'),\n",
    "    ('age', 'fbs'),\n",
    "    ('sex', 'trestbps'),\n",
    "    ('sex', 'trestbps'),\n",
    "    ('exang', 'trestbps'),\n",
    "    ('trestbps','heartdisease'),\n",
    "    ('fbs','heartdisease'),\n",
    "    ('heartdisease','restecg'),\n",
    "    ('heartdisease','thalach'),\n",
    "    ('heartdisease','chol')\n",
    "])"
   ]
  },
  {
   "cell_type": "markdown",
   "metadata": {},
   "source": [
    "Here, we are learning the CPDs using Maximum Likelihood Estimators"
   ]
  },
  {
   "cell_type": "code",
   "execution_count": 8,
   "metadata": {
    "collapsed": true
   },
   "outputs": [],
   "source": [
    "model.fit(heartdisease, estimator = MaximumLikelihoodEstimator)"
   ]
  },
  {
   "cell_type": "markdown",
   "metadata": {},
   "source": [
    "Inferencing with the Bayesian Network (from Variable Elimination)"
   ]
  },
  {
   "cell_type": "code",
   "execution_count": 9,
   "metadata": {
    "collapsed": true
   },
   "outputs": [],
   "source": [
    "heartdisease_infer = VariableElimination(model)"
   ]
  },
  {
   "cell_type": "markdown",
   "metadata": {},
   "source": [
    "Computing probability of Heart disease given age (age = 28)"
   ]
  },
  {
   "cell_type": "code",
   "execution_count": 12,
   "metadata": {},
   "outputs": [
    {
     "name": "stdout",
     "output_type": "stream",
     "text": [
      "╒════════════════╤═════════════════════╕\n",
      "│ heartdisease   │   phi(heartdisease) │\n",
      "╞════════════════╪═════════════════════╡\n",
      "│ heartdisease_0 │              0.6791 │\n",
      "├────────────────┼─────────────────────┤\n",
      "│ heartdisease_1 │              0.1212 │\n",
      "├────────────────┼─────────────────────┤\n",
      "│ heartdisease_2 │              0.0810 │\n",
      "├────────────────┼─────────────────────┤\n",
      "│ heartdisease_3 │              0.0939 │\n",
      "├────────────────┼─────────────────────┤\n",
      "│ heartdisease_4 │              0.0247 │\n",
      "╘════════════════╧═════════════════════╛\n"
     ]
    }
   ],
   "source": [
    "q = heartdisease_infer.query(variables = ['heartdisease'], evidence = {'age': 28})\n",
    "print(q['heartdisease'])"
   ]
  },
  {
   "cell_type": "markdown",
   "metadata": {},
   "source": [
    "Computing probability of Heart disease given cholesterol (chol = 100)"
   ]
  },
  {
   "cell_type": "code",
   "execution_count": 13,
   "metadata": {},
   "outputs": [
    {
     "name": "stdout",
     "output_type": "stream",
     "text": [
      "╒════════════════╤═════════════════════╕\n",
      "│ heartdisease   │   phi(heartdisease) │\n",
      "╞════════════════╪═════════════════════╡\n",
      "│ heartdisease_0 │              0.5400 │\n",
      "├────────────────┼─────────────────────┤\n",
      "│ heartdisease_1 │              0.1533 │\n",
      "├────────────────┼─────────────────────┤\n",
      "│ heartdisease_2 │              0.1303 │\n",
      "├────────────────┼─────────────────────┤\n",
      "│ heartdisease_3 │              0.1259 │\n",
      "├────────────────┼─────────────────────┤\n",
      "│ heartdisease_4 │              0.0506 │\n",
      "╘════════════════╧═════════════════════╛\n"
     ]
    }
   ],
   "source": [
    "q = heartdisease_infer.query(variables = ['heartdisease'], evidence = {'chol': 100})\n",
    "print(q['heartdisease'])"
   ]
  }
 ],
 "metadata": {
  "kernelspec": {
   "display_name": "Python 3",
   "language": "python",
   "name": "python3"
  },
  "language_info": {
   "codemirror_mode": {
    "name": "ipython",
    "version": 3
   },
   "file_extension": ".py",
   "mimetype": "text/x-python",
   "name": "python",
   "nbconvert_exporter": "python",
   "pygments_lexer": "ipython3",
   "version": "3.6.4"
  }
 },
 "nbformat": 4,
 "nbformat_minor": 2
}
